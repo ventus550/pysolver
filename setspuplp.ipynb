{
 "cells": [
  {
   "cell_type": "code",
   "execution_count": 1,
   "metadata": {},
   "outputs": [
    {
     "ename": "TypeError",
     "evalue": "unhashable type: 'set'",
     "output_type": "error",
     "traceback": [
      "\u001b[0;31m---------------------------------------------------------------------------\u001b[0m",
      "\u001b[0;31mTypeError\u001b[0m                                 Traceback (most recent call last)",
      "Cell \u001b[0;32mIn[1], line 35\u001b[0m\n\u001b[1;32m     26\u001b[0m universal_set \u001b[38;5;241m=\u001b[39m {\u001b[38;5;241m1\u001b[39m, \u001b[38;5;241m2\u001b[39m, \u001b[38;5;241m3\u001b[39m, \u001b[38;5;241m4\u001b[39m, \u001b[38;5;241m5\u001b[39m}\n\u001b[1;32m     27\u001b[0m subsets \u001b[38;5;241m=\u001b[39m [\n\u001b[1;32m     28\u001b[0m     {\u001b[38;5;241m1\u001b[39m, \u001b[38;5;241m2\u001b[39m},\n\u001b[1;32m     29\u001b[0m     {\u001b[38;5;241m2\u001b[39m, \u001b[38;5;241m3\u001b[39m},\n\u001b[0;32m   (...)\u001b[0m\n\u001b[1;32m     32\u001b[0m     {\u001b[38;5;241m1\u001b[39m, \u001b[38;5;241m5\u001b[39m}\n\u001b[1;32m     33\u001b[0m ]\n\u001b[0;32m---> 35\u001b[0m selected \u001b[38;5;241m=\u001b[39m \u001b[43msolve_set_cover\u001b[49m\u001b[43m(\u001b[49m\u001b[43muniversal_set\u001b[49m\u001b[43m,\u001b[49m\u001b[43m \u001b[49m\u001b[43msubsets\u001b[49m\u001b[43m)\u001b[49m\n\u001b[1;32m     36\u001b[0m \u001b[38;5;28mprint\u001b[39m(\u001b[38;5;124m\"\u001b[39m\u001b[38;5;124mSelected subsets:\u001b[39m\u001b[38;5;124m\"\u001b[39m, selected)\n",
      "Cell \u001b[0;32mIn[1], line 8\u001b[0m, in \u001b[0;36msolve_set_cover\u001b[0;34m(universal_set, subsets)\u001b[0m\n\u001b[1;32m      5\u001b[0m problem \u001b[38;5;241m=\u001b[39m pulp\u001b[38;5;241m.\u001b[39mLpProblem(\u001b[38;5;124m\"\u001b[39m\u001b[38;5;124mSetCoverProblem\u001b[39m\u001b[38;5;124m\"\u001b[39m, pulp\u001b[38;5;241m.\u001b[39mLpMinimize)\n\u001b[1;32m      7\u001b[0m \u001b[38;5;66;03m# Create binary variables for each subset\u001b[39;00m\n\u001b[0;32m----> 8\u001b[0m subset_vars \u001b[38;5;241m=\u001b[39m \u001b[43mpulp\u001b[49m\u001b[38;5;241;43m.\u001b[39;49m\u001b[43mLpVariable\u001b[49m\u001b[38;5;241;43m.\u001b[39;49m\u001b[43mdicts\u001b[49m\u001b[43m(\u001b[49m\u001b[38;5;124;43m\"\u001b[39;49m\u001b[38;5;124;43mSubset\u001b[39;49m\u001b[38;5;124;43m\"\u001b[39;49m\u001b[43m,\u001b[49m\u001b[43m \u001b[49m\u001b[43msubsets\u001b[49m\u001b[43m,\u001b[49m\u001b[43m \u001b[49m\u001b[43mcat\u001b[49m\u001b[38;5;241;43m=\u001b[39;49m\u001b[38;5;124;43m\"\u001b[39;49m\u001b[38;5;124;43mBinary\u001b[39;49m\u001b[38;5;124;43m\"\u001b[39;49m\u001b[43m)\u001b[49m\n\u001b[1;32m     10\u001b[0m \u001b[38;5;66;03m# Objective: Minimize the number of subsets selected\u001b[39;00m\n\u001b[1;32m     11\u001b[0m problem \u001b[38;5;241m+\u001b[39m\u001b[38;5;241m=\u001b[39m pulp\u001b[38;5;241m.\u001b[39mlpSum(subset_vars[subset] \u001b[38;5;28;01mfor\u001b[39;00m subset \u001b[38;5;129;01min\u001b[39;00m subsets) \u001b[38;5;66;03m#, \"Minimize subsets\"\u001b[39;00m\n",
      "File \u001b[0;32m~/.local/lib/python3.12/site-packages/pulp/pulp.py:377\u001b[0m, in \u001b[0;36mLpVariable.dicts\u001b[0;34m(cls, name, indices, lowBound, upBound, cat, indexStart)\u001b[0m\n\u001b[1;32m    375\u001b[0m \u001b[38;5;28;01mif\u001b[39;00m \u001b[38;5;28mlen\u001b[39m(indices) \u001b[38;5;241m==\u001b[39m \u001b[38;5;241m0\u001b[39m:\n\u001b[1;32m    376\u001b[0m     \u001b[38;5;28;01mfor\u001b[39;00m i \u001b[38;5;129;01min\u001b[39;00m index:\n\u001b[0;32m--> 377\u001b[0m         \u001b[43md\u001b[49m\u001b[43m[\u001b[49m\u001b[43mi\u001b[49m\u001b[43m]\u001b[49m \u001b[38;5;241m=\u001b[39m LpVariable(\n\u001b[1;32m    378\u001b[0m             name \u001b[38;5;241m%\u001b[39m \u001b[38;5;28mtuple\u001b[39m(indexStart \u001b[38;5;241m+\u001b[39m [\u001b[38;5;28mstr\u001b[39m(i)]), lowBound, upBound, cat\n\u001b[1;32m    379\u001b[0m         )\n\u001b[1;32m    380\u001b[0m \u001b[38;5;28;01melse\u001b[39;00m:\n\u001b[1;32m    381\u001b[0m     \u001b[38;5;28;01mfor\u001b[39;00m i \u001b[38;5;129;01min\u001b[39;00m index:\n",
      "\u001b[0;31mTypeError\u001b[0m: unhashable type: 'set'"
     ]
    }
   ],
   "source": [
    "import pulp\n",
    "\n",
    "def solve_set_cover(universal_set, subsets):\n",
    "    # Create the LP problem\n",
    "    problem = pulp.LpProblem(\"SetCoverProblem\", pulp.LpMinimize)\n",
    "\n",
    "    # Create binary variables for each subset\n",
    "    subset_vars = pulp.LpVariable.dicts(\"Subset\", subsets, cat=\"Binary\")\n",
    "\n",
    "    # Objective: Minimize the number of subsets selected\n",
    "    problem += pulp.lpSum(subset_vars[subset] for subset in subsets) #, \"Minimize subsets\"\n",
    "\n",
    "    # Constraints: Each element in the universal set must be covered\n",
    "    for element in universal_set:\n",
    "        problem += (pulp.lpSum(subset_vars[subset] for subset in subsets if element in subset) >= 1, f\"Cover_{element}\")\n",
    "\n",
    "    # Solve the problem\n",
    "    problem.solve()\n",
    "\n",
    "    # Get the selected subsets\n",
    "    selected_subsets = [subset for subset in subsets if subset_vars[subset].value() == 1]\n",
    "\n",
    "    return selected_subsets\n",
    "\n",
    "# Example input\n",
    "universal_set = {1, 2, 3, 4, 5}\n",
    "subsets = [\n",
    "    {1, 2},\n",
    "    {2, 3},\n",
    "    {3, 4},\n",
    "    {4, 5},\n",
    "    {1, 5}\n",
    "]\n",
    "\n",
    "selected = solve_set_cover(universal_set, subsets)\n",
    "print(\"Selected subsets:\", selected)\n"
   ]
  },
  {
   "cell_type": "code",
   "execution_count": null,
   "metadata": {},
   "outputs": [
    {
     "ename": "NameError",
     "evalue": "name 'universal_set' is not defined",
     "output_type": "error",
     "traceback": [
      "\u001b[0;31m---------------------------------------------------------------------------\u001b[0m",
      "\u001b[0;31mNameError\u001b[0m                                 Traceback (most recent call last)",
      "Cell \u001b[0;32mIn[1], line 19\u001b[0m\n\u001b[1;32m     16\u001b[0m     plt\u001b[38;5;241m.\u001b[39mshow()\n\u001b[1;32m     18\u001b[0m \u001b[38;5;66;03m# Visualize the selected subsets\u001b[39;00m\n\u001b[0;32m---> 19\u001b[0m visualize_upset(\u001b[43muniversal_set\u001b[49m, subsets, selected)\n",
      "\u001b[0;31mNameError\u001b[0m: name 'universal_set' is not defined"
     ]
    }
   ],
   "source": [
    "import pandas as pd\n",
    "from upsetplot import UpSet\n",
    "import matplotlib.pyplot as plt\n",
    "\n",
    "def visualize_upset(universal_set, subsets, selected_subsets):\n",
    "    # Create a DataFrame for visualization\n",
    "    data = {element: [subset for subset in subsets if element in subset] for element in universal_set}\n",
    "    \n",
    "    # Create a DataFrame where each row corresponds to a subset\n",
    "    df = pd.DataFrame({element: [element in subset for subset in subsets] for element in universal_set}).astype(int)\n",
    "    \n",
    "    # Create an UpSet plot\n",
    "    upset = UpSet(df, subset_size='count')\n",
    "    upset.plot()\n",
    "    plt.title(\"Set Cover Problem Visualization\")\n",
    "    plt.show()\n",
    "\n",
    "# Visualize the selected subsets\n",
    "visualize_upset(universal_set, subsets, selected)\n"
   ]
  },
  {
   "cell_type": "code",
   "execution_count": null,
   "metadata": {},
   "outputs": [],
   "source": []
  }
 ],
 "metadata": {
  "kernelspec": {
   "display_name": "Python 3",
   "language": "python",
   "name": "python3"
  },
  "language_info": {
   "codemirror_mode": {
    "name": "ipython",
    "version": 3
   },
   "file_extension": ".py",
   "mimetype": "text/x-python",
   "name": "python",
   "nbconvert_exporter": "python",
   "pygments_lexer": "ipython3",
   "version": "3.12.4"
  }
 },
 "nbformat": 4,
 "nbformat_minor": 2
}
